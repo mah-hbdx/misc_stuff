{
 "cells": [
  {
   "cell_type": "markdown",
   "id": "1150cde9",
   "metadata": {},
   "source": [
    "## Generative models\n",
    "\n",
    "\n",
    "We will only talk about "
   ]
  },
  {
   "cell_type": "markdown",
   "id": "e1efa0c8",
   "metadata": {},
   "source": [
    "## What is generative models? \n",
    "\n",
    "## What is a distribution!\n",
    "\n",
    "Before we talk about generative models we need to talk about data.\n",
    "\n",
    "And in specific we need to talk about distributions. \n",
    "\n",
    "### Q: What is the distribution we are working with?\n",
    "\n",
    "### A: Sequenced blood samples from all human beings\n",
    "\n",
    "### Q: What are the variables/parameters for this distribution?\n",
    "\n",
    "### A: Age, Gender, Cancer status, Time of day, Hospital, Nurse, Sequencer, Sample deterioration, etc. etc. etc.\n",
    "\n",
    "Say that we wanted to model this distribution. Then that's not easy, since the data distribution looks very complicated! But we can try\n",
    "\n",
    "In generative models we speak of the distribution as p(x). Sometimes you want to condition the distribution to a specific subset, like p(x|z), with z being something like gender==male. \n",
    "\n",
    "Note! Generative models does not work with targets. This is a fundamentally different problem.  \n",
    "\n",
    "\n",
    "\n",
    "#### Say that we have some data...\n",
    "\n",
    "\n",
    "\n"
   ]
  },
  {
   "cell_type": "markdown",
   "id": "c4951c1b",
   "metadata": {},
   "source": [
    "## Why is generative models?\n",
    "\n",
    "Uncertainty\n",
    "\n",
    "Rejection\n",
    "\n",
    "\n",
    "\n",
    "\n",
    "\n",
    "\n",
    "But a lot is wild west!"
   ]
  },
  {
   "cell_type": "markdown",
   "id": "99748fbd",
   "metadata": {},
   "source": [
    "Feature learning\n",
    "\n",
    "VAE (feature learning)\n",
    "\n",
    "\n",
    "\n",
    "\n",
    "and latent variable stuff"
   ]
  },
  {
   "cell_type": "code",
   "execution_count": null,
   "id": "ce15b80d",
   "metadata": {},
   "outputs": [],
   "source": [
    "Demo GAN"
   ]
  },
  {
   "cell_type": "code",
   "execution_count": null,
   "id": "f6edc0ec",
   "metadata": {},
   "outputs": [],
   "source": []
  },
  {
   "cell_type": "markdown",
   "id": "bae8aa4b",
   "metadata": {},
   "source": [
    "#### Demo VAE\n",
    "\n",
    "The big takeaway is to understand the difference between Variational auto encoders and Autoencoders.\n",
    "\n",
    "An autoencoder is a supression tool. It encodes/compresses to a lower dimension and outputs the same data. The process is deterministic. A variational autoencoder introduces smoothness through its generative properties. The lower dimension is called a latent distribution which is modelled on the data distribution.\n",
    "\n"
   ]
  },
  {
   "cell_type": "code",
   "execution_count": null,
   "id": "f31e97a5",
   "metadata": {},
   "outputs": [],
   "source": []
  },
  {
   "cell_type": "markdown",
   "id": "58c9a4a4",
   "metadata": {},
   "source": [
    "### SCVI tools\n",
    "\n"
   ]
  }
 ],
 "metadata": {
  "kernelspec": {
   "display_name": "Python 3",
   "language": "python",
   "name": "python3"
  },
  "language_info": {
   "codemirror_mode": {
    "name": "ipython",
    "version": 3
   },
   "file_extension": ".py",
   "mimetype": "text/x-python",
   "name": "python",
   "nbconvert_exporter": "python",
   "pygments_lexer": "ipython3",
   "version": "3.8.8"
  }
 },
 "nbformat": 4,
 "nbformat_minor": 5
}
